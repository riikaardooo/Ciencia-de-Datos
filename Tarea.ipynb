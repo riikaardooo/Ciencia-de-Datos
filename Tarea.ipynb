{
 "cells": [
  {
   "cell_type": "code",
   "execution_count": 3,
   "metadata": {},
   "outputs": [],
   "source": [
    "import pandas as pd"
   ]
  },
  {
   "cell_type": "code",
   "execution_count": 7,
   "metadata": {},
   "outputs": [],
   "source": [
    "import numpy as np\n",
    "from sklearn.preprocessing import StandardScaler\n",
    "from sklearn.decomposition import PCA\n",
    "import seaborn as sns\n",
    "import matplotlib.pyplot as plt\n",
    "import statsmodels.api as sm"
   ]
  },
  {
   "cell_type": "code",
   "execution_count": 12,
   "metadata": {},
   "outputs": [
    {
     "name": "stdout",
     "output_type": "stream",
     "text": [
      "              Name  GP   MIN  PTS  FGM  FGA   FG%  3P Made  3PA   3P%  ...  \\\n",
      "0   Brandon Ingram  36  27.4  7.4  2.6  7.6  34.7      0.5  2.1  25.0  ...   \n",
      "1  Andrew Harrison  35  26.9  7.2  2.0  6.7  29.6      0.7  2.8  23.5  ...   \n",
      "2   JaKarr Sampson  74  15.3  5.2  2.0  4.7  42.2      0.4  1.7  24.4  ...   \n",
      "3      Malik Sealy  58  11.6  5.7  2.3  5.5  42.6      0.1  0.5  22.6  ...   \n",
      "4      Matt Geiger  48  11.5  4.5  1.6  3.0  52.4      0.0  0.1   0.0  ...   \n",
      "\n",
      "   FTA   FT%  OREB  DREB  REB  AST  STL  BLK  TOV  TARGET_5Yrs  \n",
      "0  2.3  69.9   0.7   3.4  4.1  1.9  0.4  0.4  1.3          0.0  \n",
      "1  3.4  76.5   0.5   2.0  2.4  3.7  1.1  0.5  1.6          0.0  \n",
      "2  1.3  67.0   0.5   1.7  2.2  1.0  0.5  0.3  1.0          0.0  \n",
      "3  1.3  68.9   1.0   0.9  1.9  0.8  0.6  0.1  1.0          1.0  \n",
      "4  1.9  67.4   1.0   1.5  2.5  0.3  0.3  0.4  0.8          1.0  \n",
      "\n",
      "[5 rows x 21 columns]\n"
     ]
    }
   ],
   "source": [
    "df = pd.read_csv('nba_logreg2.csv', sep = \";\")\n",
    "print(df.head(5))"
   ]
  },
  {
   "cell_type": "code",
   "execution_count": 13,
   "metadata": {},
   "outputs": [
    {
     "name": "stdout",
     "output_type": "stream",
     "text": [
      "                GP          MIN          PTS          FGM          FGA  \\\n",
      "count  1329.000000  1329.000000  1329.000000  1329.000000  1329.000000   \n",
      "mean     60.402558    17.647931     6.820166     2.634763     5.902483   \n",
      "std      17.481092     8.327441     4.365671     1.686850     3.598820   \n",
      "min      11.000000     3.100000     0.700000     0.300000     0.800000   \n",
      "25%      47.000000    10.800000     3.700000     1.400000     3.300000   \n",
      "50%      63.000000    16.100000     5.600000     2.100000     4.800000   \n",
      "75%      77.000000    22.900000     8.800000     3.400000     7.500000   \n",
      "max      82.000000    40.900000    28.200000    10.200000    19.800000   \n",
      "\n",
      "               FG%      3P Made          3PA          3P%          FTM  \\\n",
      "count  1329.000000  1329.000000  1329.000000  1329.000000  1329.000000   \n",
      "mean     44.117532     0.249661     0.785628    19.308126     1.302784   \n",
      "std       6.119492     0.384608     1.063856    16.022916     0.989341   \n",
      "min      23.800000     0.000000     0.000000     0.000000     0.000000   \n",
      "25%      40.200000     0.000000     0.000000     0.000000     0.600000   \n",
      "50%      43.900000     0.100000     0.300000    22.400000     1.000000   \n",
      "75%      47.800000     0.400000     1.200000    32.500000     1.700000   \n",
      "max      73.700000     2.300000     6.500000   100.000000     7.700000   \n",
      "\n",
      "               FTA          FT%         OREB         DREB          REB  \\\n",
      "count  1329.000000  1329.000000  1329.000000  1329.000000  1329.000000   \n",
      "mean      1.827314    70.407148     1.007600     2.021445     3.028442   \n",
      "std       1.326655    10.489838     0.779178     1.362464     2.062357   \n",
      "min       0.000000     0.000000     0.000000     0.200000     0.300000   \n",
      "25%       0.900000    64.800000     0.400000     1.000000     1.500000   \n",
      "50%       1.500000    71.300000     0.800000     1.700000     2.500000   \n",
      "75%       2.300000    77.600000     1.400000     2.600000     4.000000   \n",
      "max      10.200000   100.000000     5.300000     9.600000    13.900000   \n",
      "\n",
      "               AST          STL          BLK          TOV  TARGET_5Yrs  \n",
      "count  1329.000000  1329.000000  1329.000000  1329.000000  1329.000000  \n",
      "mean      1.558992     0.620391     0.366140     1.196012     0.621520  \n",
      "std       1.474159     0.410533     0.428534     0.724470     0.485191  \n",
      "min       0.000000     0.000000     0.000000     0.100000     0.000000  \n",
      "25%       0.600000     0.300000     0.100000     0.700000     0.000000  \n",
      "50%       1.100000     0.500000     0.200000     1.000000     1.000000  \n",
      "75%       2.000000     0.800000     0.500000     1.500000     1.000000  \n",
      "max      10.600000     2.500000     3.900000     4.400000     1.000000  \n"
     ]
    }
   ],
   "source": [
    "print(df.describe())"
   ]
  },
  {
   "cell_type": "code",
   "execution_count": 14,
   "metadata": {},
   "outputs": [
    {
     "name": "stdout",
     "output_type": "stream",
     "text": [
      "<class 'pandas.core.frame.DataFrame'>\n",
      "RangeIndex: 1329 entries, 0 to 1328\n",
      "Data columns (total 21 columns):\n",
      " #   Column       Non-Null Count  Dtype  \n",
      "---  ------       --------------  -----  \n",
      " 0   Name         1329 non-null   object \n",
      " 1   GP           1329 non-null   int64  \n",
      " 2   MIN          1329 non-null   float64\n",
      " 3   PTS          1329 non-null   float64\n",
      " 4   FGM          1329 non-null   float64\n",
      " 5   FGA          1329 non-null   float64\n",
      " 6   FG%          1329 non-null   float64\n",
      " 7   3P Made      1329 non-null   float64\n",
      " 8   3PA          1329 non-null   float64\n",
      " 9   3P%          1329 non-null   float64\n",
      " 10  FTM          1329 non-null   float64\n",
      " 11  FTA          1329 non-null   float64\n",
      " 12  FT%          1329 non-null   float64\n",
      " 13  OREB         1329 non-null   float64\n",
      " 14  DREB         1329 non-null   float64\n",
      " 15  REB          1329 non-null   float64\n",
      " 16  AST          1329 non-null   float64\n",
      " 17  STL          1329 non-null   float64\n",
      " 18  BLK          1329 non-null   float64\n",
      " 19  TOV          1329 non-null   float64\n",
      " 20  TARGET_5Yrs  1329 non-null   float64\n",
      "dtypes: float64(19), int64(1), object(1)\n",
      "memory usage: 218.2+ KB\n",
      "None\n"
     ]
    }
   ],
   "source": [
    "print(df.info())"
   ]
  }
 ],
 "metadata": {
  "kernelspec": {
   "display_name": "Python 3",
   "language": "python",
   "name": "python3"
  },
  "language_info": {
   "codemirror_mode": {
    "name": "ipython",
    "version": 3
   },
   "file_extension": ".py",
   "mimetype": "text/x-python",
   "name": "python",
   "nbconvert_exporter": "python",
   "pygments_lexer": "ipython3",
   "version": "3.10.6"
  }
 },
 "nbformat": 4,
 "nbformat_minor": 2
}
